{
 "cells": [
  {
   "cell_type": "code",
   "execution_count": 1,
   "metadata": {},
   "outputs": [],
   "source": [
    "import numpy as np\n",
    "import pandas as pd\n",
    "import matplotlib.pyplot as plt"
   ]
  },
  {
   "cell_type": "code",
   "execution_count": 2,
   "metadata": {},
   "outputs": [
    {
     "name": "stderr",
     "output_type": "stream",
     "text": [
      "/local/home/ningzesun/.local/lib/python3.6/site-packages/IPython/core/interactiveshell.py:3058: DtypeWarning: Columns (22,32,34,49,55) have mixed types. Specify dtype option on import or set low_memory=False.\n",
      "  interactivity=interactivity, compiler=compiler, result=result)\n",
      "/local/home/ningzesun/.local/lib/python3.6/site-packages/IPython/core/interactiveshell.py:3058: DtypeWarning: Columns (49) have mixed types. Specify dtype option on import or set low_memory=False.\n",
      "  interactivity=interactivity, compiler=compiler, result=result)\n"
     ]
    }
   ],
   "source": [
    "# read train csv\n",
    "prop_1_df = pd.read_csv(\"./Resources/properties_2016.csv\")\n",
    "prop_2_df = pd.read_csv(\"./Resources/properties_2017.csv\")\n",
    "prop_list = [prop_1_df, prop_2_df]"
   ]
  },
  {
   "cell_type": "code",
   "execution_count": 3,
   "metadata": {},
   "outputs": [],
   "source": [
    "for i in prop_list:\n",
    "    i.loc[:,'latitude'] = i.loc[:,'latitude']/1e6\n",
    "    i.loc[:,'longitude'] = i.loc[:,'longitude']/1e6"
   ]
  },
  {
   "cell_type": "code",
   "execution_count": 5,
   "metadata": {},
   "outputs": [],
   "source": [
    "from sklearn import neighbors\n",
    "from sklearn.preprocessing import OneHotEncoder\n",
    "\n",
    "def zoningcode2int( df, target ):\n",
    "    storenull = df[ target ].isnull()\n",
    "    enc = LabelEncoder( )\n",
    "    df[ target ] = df[ target ].astype( str )\n",
    "\n",
    "    print('fit and transform')\n",
    "    df[ target ]= enc.fit_transform( df[ target ].values )\n",
    "    print( 'num of categories: ', enc.classes_.shape  )\n",
    "    df.loc[ storenull, target ] = np.nan\n",
    "    print('recover the nan value')\n",
    "    return enc\n",
    "\n",
    "def fillna_knn( df, base, target, fraction = 0.1, threshold = 10, n_neighbors = 10 ):\n",
    "    assert isinstance( base , list ) or isinstance( base , np.ndarray ) and isinstance( target, str ) \n",
    "    whole = [ target ] + base\n",
    "    \n",
    "    miss = df[target].isnull()\n",
    "    notmiss = ~miss \n",
    "    nummiss = miss.sum()\n",
    "    \n",
    "    enc = OneHotEncoder()\n",
    "    X_target = df.loc[ notmiss, whole ].sample( frac = fraction )\n",
    "    \n",
    "    enc.fit( X_target[ target ].unique().reshape( (-1,1) ) )\n",
    "    \n",
    "    Y = enc.transform( X_target[ target ].values.reshape((-1,1)) ).toarray()\n",
    "    X = X_target[ base  ]\n",
    "    \n",
    "    print( 'fitting' )\n",
    "    n_neighbors = n_neighbors\n",
    "    clf = neighbors.KNeighborsClassifier( n_neighbors, weights = 'uniform' )\n",
    "    clf.fit( X, Y )\n",
    "    \n",
    "    print( 'the shape of active features: ' ,enc.active_features_.shape )\n",
    "    \n",
    "    print( 'predicting' )\n",
    "    Z = clf.predict(df.loc[miss, base])\n",
    "    \n",
    "    numunperdicted = Z[:,0].sum()\n",
    "    if numunperdicted / nummiss *100 < threshold :\n",
    "        print( 'writing result to df' )    \n",
    "        df.loc[ miss, target ]  = np.dot( Z , enc.active_features_ )\n",
    "        print( 'num of unperdictable data: ', numunperdicted )\n",
    "        return enc\n",
    "    else:\n",
    "        print( 'out of threshold: {}% > {}%'.format( numunperdicted / nummiss *100 , threshold ) )"
   ]
  },
  {
   "cell_type": "code",
   "execution_count": 6,
   "metadata": {},
   "outputs": [],
   "source": [
    "import warnings\n",
    "warnings.filterwarnings('ignore')\n",
    "# run a loop to run at the same time. However, it runs forever, so run separately in different notebooks\n",
    "# to use full function of cpu\n",
    "# geo_col = ['buildingqualitytypeid', 'regionidcity', 'regionidneighborhood', \n",
    "#            'regionidzip', 'unitcnt', 'yearbuilt', 'lotsizesquarefeet']\n",
    "# geo_trans = ['propertycountylandusecode', 'propertyzoningdesc']\n",
    "# prop_un_1_df = prop_1_df.loc[prop_1_df['latitude'].isna(),:]\n",
    "# prop_un_2_df = prop_2_df.loc[prop_2_df['latitude'].isna(),:]\n",
    "# prop_1_df = prop_1_df.loc[prop_1_df['latitude'].notna(),:]\n",
    "# prop_2_df = prop_2_df.loc[prop_2_df['latitude'].notna(),:]\n",
    "# for i in geo_col:\n",
    "#     print(i)\n",
    "#     fillna_knn(df = prop_1_df, base = ['latitude', 'longitude'], target = i, fraction = 0.15)\n",
    "#     fillna_knn(df = prop_2_df, base = ['latitude', 'longitude'], target = i, fraction = 0.15)\n",
    "# for i in geo_trans:\n",
    "#     print(i)\n",
    "#     zoningcode2int( df = df_train, target = i)\n",
    "#     fillna_knn(df = prop_1_df, base = ['latitude', 'longitude'], target = i, fraction = 0.15)\n",
    "#     fillna_knn(df = prop_2_df, base = ['latitude', 'longitude'], target = i, fraction = 0.15)\n",
    "# prop_1_df = pd.concat([prop_1_df, prop_un_1_df])\n",
    "# prop_2_df = pd.concat([prop_2_df, prop_un_2_df])\n",
    "# prop_1_df.to_csv(\"./Resources/properties_refilled_2016.csv\")\n",
    "# prop_2_df.to_csv(\"./Resources/properties_refilled_2017.csv\")"
   ]
  },
  {
   "cell_type": "code",
   "execution_count": 7,
   "metadata": {},
   "outputs": [],
   "source": [
    "import glob\n",
    "files_2017 = glob.glob('./output/properties/*2017.csv')\n",
    "files_2016 = glob.glob('./output/properties/*2016.csv')"
   ]
  },
  {
   "cell_type": "code",
   "execution_count": 8,
   "metadata": {},
   "outputs": [],
   "source": [
    "for i in files_2016:\n",
    "    df_temp = pd.read_csv(i)\n",
    "    df_temp.drop(['Unnamed: 0'], axis = 1, inplace = True)\n",
    "    name_column = list(df_temp.columns)[1]\n",
    "    df_temp = df_temp.rename(columns = {name_column: name_column + '_fill'})\n",
    "    prop_1_df = prop_1_df.merge(df_temp, how = 'left', on = 'parcelid')"
   ]
  },
  {
   "cell_type": "code",
   "execution_count": 9,
   "metadata": {},
   "outputs": [],
   "source": [
    "for i in files_2017:\n",
    "    df_temp = pd.read_csv(i)\n",
    "    df_temp.drop(['Unnamed: 0'], axis = 1, inplace = True)\n",
    "    name_column = list(df_temp.columns)[1]\n",
    "    df_temp = df_temp.rename(columns = {name_column: name_column + '_fill'})\n",
    "    prop_2_df = prop_2_df.merge(df_temp, how = 'left', on = 'parcelid')"
   ]
  },
  {
   "cell_type": "code",
   "execution_count": 21,
   "metadata": {},
   "outputs": [],
   "source": [
    "# hashottuborspa is nan means no spa\n",
    "index = prop_1_df.hashottuborspa.isna()\n",
    "prop_1_df.loc[index,'hashottuborspa'] = \"None\"\n",
    "index = prop_2_df.hashottuborspa.isna()\n",
    "prop_2_df.loc[index,'hashottuborspa'] = \"None\"\n",
    "\n",
    "#Assume if the pooltype id is null then pool/hottub doesnt exist \n",
    "index = prop_1_df.pooltypeid2.isnull()\n",
    "prop_1_df.loc[index,'pooltypeid2'] = 0\n",
    "index = prop_2_df.pooltypeid2.isnull()\n",
    "prop_2_df.loc[index,'pooltypeid2'] = 0\n",
    "\n",
    "# whether has the pool\n",
    "index = prop_1_df.poolcnt.isnull()\n",
    "prop_1_df.loc[index,'poolcnt'] = 0\n",
    "index = prop_2_df.poolcnt.isnull()\n",
    "prop_2_df.loc[index,'poolcnt'] = 0\n",
    "\n",
    "# fireplacecnt's nan is no fireplace\n",
    "index = prop_1_df.fireplacecnt.isnull()\n",
    "prop_1_df.loc[index,'fireplacecnt'] = 0\n",
    "index = prop_2_df.fireplacecnt.isnull()\n",
    "prop_2_df.loc[index,'fireplacecnt'] = 0\n",
    "\n",
    "# taxdelinquencyflag's nan is no taxdelinquencyflag\n",
    "index = prop_1_df.taxdelinquencyflag.isnull()\n",
    "prop_1_df.loc[index,'taxdelinquencyflag'] = 0\n",
    "index = prop_2_df.taxdelinquencyflag.isnull()\n",
    "prop_2_df.loc[index,'taxdelinquencyflag'] = 0\n",
    "\n",
    "#Assume if Null in garage count it means there are no garages\n",
    "index = prop_1_df.garagecarcnt.isnull()\n",
    "prop_1_df.loc[index,'garagecarcnt'] = 0\n",
    "index = prop_2_df.garagecarcnt.isnull()\n",
    "prop_2_df.loc[index,'garagecarcnt'] = 0\n",
    "\n",
    "#Likewise no garage means the size is 0 by default\n",
    "index = prop_1_df.garagetotalsqft.isnull()\n",
    "prop_1_df.loc[index,'garagetotalsqft'] = 0\n",
    "index = prop_2_df.garagetotalsqft.isnull()\n",
    "prop_2_df.loc[index,'garagetotalsqft'] = 0\n",
    "\n",
    "# nan in threequarterbathnbr means 0 by default\n",
    "index = prop_1_df.threequarterbathnbr.isnull()\n",
    "prop_1_df.loc[index,'threequarterbathnbr'] = 0\n",
    "index = prop_2_df.threequarterbathnbr.isnull()\n",
    "prop_2_df.loc[index,'threequarterbathnbr'] = 0\n",
    "\n",
    "# basementsqft nan mean 0\n",
    "index = prop_1_df.basementsqft.isnull()\n",
    "prop_1_df.loc[index,'basementsqft'] = 0\n",
    "index = prop_2_df.basementsqft.isnull()\n",
    "prop_2_df.loc[index,'basementsqft'] = 0"
   ]
  },
  {
   "cell_type": "code",
   "execution_count": 26,
   "metadata": {},
   "outputs": [],
   "source": [
    "prop_1_df['N_life'] = 2018 - prop_1_df['yearbuilt']\n",
    "prop_1_df.drop(['yearbuilt'], axis = 1, inplace = True)\n",
    "#Ratio of tax of property over parcel\n",
    "prop_1_df['N_ValueRatio'] = prop_1_df['taxvaluedollarcnt']/prop_1_df['taxamount']\n",
    "#Number of properties in the zip\n",
    "zip_count = prop_1_df['regionidzip'].value_counts().to_dict()\n",
    "prop_1_df['N_zip_count'] = prop_1_df['regionidzip'].map(zip_count)\n",
    "\n",
    "prop_2_df['N_life'] = 2018 - prop_2_df['yearbuilt']\n",
    "prop_2_df.drop(['yearbuilt'], axis = 1, inplace = True)\n",
    "#Ratio of tax of property over parcel\n",
    "prop_2_df['N_ValueRatio'] = prop_2_df['taxvaluedollarcnt']/prop_2_df['taxamount']\n",
    "#Number of properties in the zip\n",
    "zip_count = prop_2_df['regionidzip'].value_counts().to_dict()\n",
    "prop_2_df['N_zip_count'] = prop_2_df['regionidzip'].map(zip_count)"
   ]
  },
  {
   "cell_type": "code",
   "execution_count": 28,
   "metadata": {},
   "outputs": [],
   "source": [
    "prop_1_df.to_csv('./output/prop_2016_refilled.csv', index = False)\n",
    "prop_2_df.to_csv('./output/prop_2017_refilled.csv', index = False)"
   ]
  },
  {
   "cell_type": "code",
   "execution_count": null,
   "metadata": {},
   "outputs": [],
   "source": []
  }
 ],
 "metadata": {
  "kernelspec": {
   "display_name": "Python 3",
   "language": "python",
   "name": "python3"
  },
  "language_info": {
   "codemirror_mode": {
    "name": "ipython",
    "version": 3
   },
   "file_extension": ".py",
   "mimetype": "text/x-python",
   "name": "python",
   "nbconvert_exporter": "python",
   "pygments_lexer": "ipython3",
   "version": "3.7.4"
  }
 },
 "nbformat": 4,
 "nbformat_minor": 2
}
