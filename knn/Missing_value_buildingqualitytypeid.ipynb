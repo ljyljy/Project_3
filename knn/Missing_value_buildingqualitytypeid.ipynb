{
 "cells": [
  {
   "cell_type": "code",
   "execution_count": 1,
   "metadata": {},
   "outputs": [],
   "source": [
    "import numpy as np \n",
    "import pandas as pd\n",
    "from sklearn import neighbors\n",
    "import seaborn as sns\n",
    "from sklearn.neighbors import KNeighborsRegressor\n",
    "from sklearn.preprocessing import OneHotEncoder\n",
    "from sklearn.preprocessing import StandardScaler\n",
    "from sklearn.preprocessing import LabelEncoder\n",
    "import matplotlib.pyplot as plt"
   ]
  },
  {
   "cell_type": "code",
   "execution_count": 2,
   "metadata": {},
   "outputs": [
    {
     "name": "stderr",
     "output_type": "stream",
     "text": [
      "/local/home/ningzesun/.local/lib/python3.6/site-packages/IPython/core/interactiveshell.py:3058: DtypeWarning: Columns (22,32,34,49,55) have mixed types. Specify dtype option on import or set low_memory=False.\n",
      "  interactivity=interactivity, compiler=compiler, result=result)\n",
      "/local/home/ningzesun/.local/lib/python3.6/site-packages/IPython/core/interactiveshell.py:3058: DtypeWarning: Columns (49) have mixed types. Specify dtype option on import or set low_memory=False.\n",
      "  interactivity=interactivity, compiler=compiler, result=result)\n"
     ]
    }
   ],
   "source": [
    "# read train csv\n",
    "prop_1_df = pd.read_csv(\"./Resources/properties_2016.csv\")\n",
    "prop_2_df = pd.read_csv(\"./Resources/properties_2017.csv\")\n",
    "prop_list = [prop_1_df, prop_2_df]"
   ]
  },
  {
   "cell_type": "code",
   "execution_count": 3,
   "metadata": {},
   "outputs": [],
   "source": [
    "# hashottuborspa is nan means no spa\n",
    "for total_df in prop_list:\n",
    "    index = total_df.hashottuborspa.isnull()\n",
    "    total_df.loc[index,'hashottuborspa'] = \"None\"\n",
    "    #Assume if the pooltype id is null then pool/hottub doesnt exist \n",
    "    index = total_df.pooltypeid2.isnull()\n",
    "    total_df.loc[index,'pooltypeid2'] = 0\n",
    "    # whether has the pool\n",
    "    index = total_df.poolcnt.isnull()\n",
    "    total_df.loc[index,'poolcnt'] = 0\n",
    "    # pool size are same so delete it.\n",
    "    # fireplacecnt's nan is no fireplace\n",
    "    index = total_df.fireplacecnt.isnull()\n",
    "    total_df.loc[index,'fireplacecnt'] = 0\n",
    "    # taxdelinquencyflag's nan is no taxdelinquencyflag\n",
    "    index = total_df.taxdelinquencyflag.isnull()\n",
    "    total_df.loc[index,'taxdelinquencyflag'] = 0\n",
    "    #Assume if Null in garage count it means there are no garages\n",
    "    index = total_df.garagecarcnt.isnull()\n",
    "    total_df.loc[index,'garagecarcnt'] = 0\n",
    "\n",
    "    #Likewise no garage means the size is 0 by default\n",
    "    index = total_df.garagetotalsqft.isnull()\n",
    "    total_df.loc[index,'garagetotalsqft'] = 0\n",
    "\n",
    "    # nan in threequarterbathnbr means 0 by default\n",
    "    index = total_df.threequarterbathnbr.isnull()\n",
    "    total_df.loc[index,'threequarterbathnbr'] = 0\n",
    "\n",
    "    # basementsqft nan mean 0\n",
    "    index = total_df.basementsqft.isnull()\n",
    "    total_df.loc[index,'basementsqft'] = 0"
   ]
  },
  {
   "cell_type": "code",
   "execution_count": 4,
   "metadata": {},
   "outputs": [],
   "source": [
    "for i in prop_list:\n",
    "    i.loc[:,'latitude'] = i.loc[:,'latitude']/1e6\n",
    "    i.loc[:,'longitude'] = i.loc[:,'longitude']/1e6"
   ]
  },
  {
   "cell_type": "code",
   "execution_count": 5,
   "metadata": {},
   "outputs": [],
   "source": [
    "prop_un_1_df = prop_1_df.loc[prop_1_df['latitude'].isna(),:]\n",
    "prop_un_2_df = prop_2_df.loc[prop_2_df['latitude'].isna(),:]\n",
    "prop_1_df = prop_1_df.loc[prop_1_df['latitude'].notna(),:]\n",
    "prop_2_df = prop_2_df.loc[prop_2_df['latitude'].notna(),:]"
   ]
  },
  {
   "cell_type": "code",
   "execution_count": 6,
   "metadata": {},
   "outputs": [],
   "source": [
    "from sklearn import neighbors\n",
    "from sklearn.preprocessing import OneHotEncoder\n",
    "\n",
    "def zoningcode2int( df, target ):\n",
    "    storenull = df[ target ].isnull()\n",
    "    enc = LabelEncoder( )\n",
    "    df[ target ] = df[ target ].astype( str )\n",
    "\n",
    "    print('fit and transform')\n",
    "    df[ target ]= enc.fit_transform( df[ target ].values )\n",
    "    print( 'num of categories: ', enc.classes_.shape  )\n",
    "    df.loc[ storenull, target ] = np.nan\n",
    "    print('recover the nan value')\n",
    "    return enc\n",
    "\n",
    "def fillna_knn( df, base, target, fraction = 0.1, threshold = 10, n_neighbors = 5 ):\n",
    "    assert isinstance( base , list ) or isinstance( base , np.ndarray ) and isinstance( target, str ) \n",
    "    whole = [ target ] + base\n",
    "    \n",
    "    miss = df[target].isnull()\n",
    "    notmiss = ~miss \n",
    "    nummiss = miss.sum()\n",
    "    \n",
    "    enc = OneHotEncoder()\n",
    "    X_target = df.loc[ notmiss, whole ].sample( frac = fraction )\n",
    "    \n",
    "    enc.fit( X_target[ target ].unique().reshape( (-1,1) ) )\n",
    "    \n",
    "    Y = enc.transform( X_target[ target ].values.reshape((-1,1)) ).toarray()\n",
    "    X = X_target[ base  ]\n",
    "    \n",
    "    print( 'fitting' )\n",
    "    n_neighbors = n_neighbors\n",
    "    clf = neighbors.KNeighborsClassifier( n_neighbors, weights = 'uniform' )\n",
    "    clf.fit( X, Y )\n",
    "    \n",
    "    print( 'the shape of active features: ' ,enc.active_features_.shape )\n",
    "    \n",
    "    print( 'predicting' )\n",
    "    Z = clf.predict(df.loc[miss, base])\n",
    "    \n",
    "    numunperdicted = Z[:,0].sum()\n",
    "    if numunperdicted / nummiss *100 < threshold :\n",
    "        print( 'writing result to df' )    \n",
    "        df.loc[ miss, target ]  = np.dot( Z , enc.active_features_ )\n",
    "        print( 'num of unperdictable data: ', numunperdicted )\n",
    "        return enc\n",
    "    else:\n",
    "        print( 'out of threshold: {}% > {}%'.format( numunperdicted / nummiss *100 , threshold ) )"
   ]
  },
  {
   "cell_type": "code",
   "execution_count": 7,
   "metadata": {},
   "outputs": [],
   "source": [
    "geo_col = ['buildingqualitytypeid', 'regionidcity', 'regionidneighborhood', \n",
    "           'regionidzip', 'unitcnt', 'yearbuilt', 'lotsizesquarefeet']\n",
    "geo_trans = ['propertycountylandusecode', 'propertyzoningdesc']"
   ]
  },
  {
   "cell_type": "code",
   "execution_count": 10,
   "metadata": {},
   "outputs": [
    {
     "name": "stdout",
     "output_type": "stream",
     "text": [
      "fitting\n",
      "the shape of active features:  (12,)\n",
      "predicting\n",
      "writing result to df\n",
      "num of unperdictable data:  27650.0\n",
      "fitting\n",
      "the shape of active features:  (12,)\n",
      "predicting\n",
      "writing result to df\n",
      "num of unperdictable data:  55.0\n"
     ]
    },
    {
     "data": {
      "text/plain": [
       "OneHotEncoder(categorical_features=None, categories=None, drop=None,\n",
       "              dtype=<class 'numpy.float64'>, handle_unknown='error',\n",
       "              n_values=None, sparse=True)"
      ]
     },
     "execution_count": 10,
     "metadata": {},
     "output_type": "execute_result"
    }
   ],
   "source": [
    "import warnings\n",
    "warnings.filterwarnings('ignore')\n",
    "fillna_knn(df = prop_1_df, base = ['latitude', 'longitude'], target = 'buildingqualitytypeid', fraction = 0.15)\n",
    "fillna_knn(df = prop_2_df, base = ['latitude', 'longitude'], target = 'buildingqualitytypeid', fraction = 0.15)"
   ]
  },
  {
   "cell_type": "code",
   "execution_count": 11,
   "metadata": {},
   "outputs": [],
   "source": [
    "prop_1_df = pd.concat([prop_1_df, prop_un_1_df])\n",
    "prop_2_df = pd.concat([prop_2_df, prop_un_2_df])\n",
    "prop_1_df[['parcelid', 'buildingqualitytypeid']].to_csv(\"./Resources/properties_buildingqualitytypeid_2016.csv\")\n",
    "prop_2_df[['parcelid', 'buildingqualitytypeid']].to_csv(\"./Resources/properties_buildingqualitytypeid_2017.csv\")"
   ]
  },
  {
   "cell_type": "code",
   "execution_count": null,
   "metadata": {},
   "outputs": [],
   "source": []
  },
  {
   "cell_type": "code",
   "execution_count": null,
   "metadata": {},
   "outputs": [],
   "source": []
  }
 ],
 "metadata": {
  "kernelspec": {
   "display_name": "Python 3",
   "language": "python",
   "name": "python3"
  },
  "language_info": {
   "codemirror_mode": {
    "name": "ipython",
    "version": 3
   },
   "file_extension": ".py",
   "mimetype": "text/x-python",
   "name": "python",
   "nbconvert_exporter": "python",
   "pygments_lexer": "ipython3",
   "version": "3.6.8"
  }
 },
 "nbformat": 4,
 "nbformat_minor": 2
}
