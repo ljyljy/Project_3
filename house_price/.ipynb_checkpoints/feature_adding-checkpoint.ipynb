{
 "cells": [
  {
   "cell_type": "code",
   "execution_count": 1,
   "metadata": {},
   "outputs": [],
   "source": [
    "import numpy as np # linear algebra\n",
    "import pandas as pd # data processing, CSV file I/O (e.g. pd.read_csv)\n",
    "import matplotlib.pyplot as plt\n",
    "import seaborn as sns"
   ]
  },
  {
   "cell_type": "code",
   "execution_count": 2,
   "metadata": {},
   "outputs": [
    {
     "name": "stderr",
     "output_type": "stream",
     "text": [
      "/local/home/ningzesun/.local/lib/python3.6/site-packages/IPython/core/interactiveshell.py:3058: DtypeWarning: Columns (22,32,34,49,55) have mixed types. Specify dtype option on import or set low_memory=False.\n",
      "  interactivity=interactivity, compiler=compiler, result=result)\n"
     ]
    }
   ],
   "source": [
    "# read train csv\n",
    "train_df = pd.concat([pd.read_csv(\"./Resources/train_2016_v2.csv\", parse_dates=[\"transactiondate\"]), \n",
    "                      pd.read_csv(\"./Resources/train_2017.csv\", parse_dates=[\"transactiondate\"])])\n",
    "train_df['transaction_month'] = train_df['transactiondate'].dt.month\n",
    "prop_df = pd.concat([pd.read_csv(\"./Resources/properties_2016.csv\"), pd.read_csv(\"./Resources/properties_2016.csv\")])\n",
    "merge_df = pd.merge(train_df, prop_df, on='parcelid', how='left')\n",
    "col_init = list(merge_df.columns)"
   ]
  },
  {
   "cell_type": "code",
   "execution_count": 3,
   "metadata": {},
   "outputs": [],
   "source": [
    "# life of property\n",
    "merge_df['N-life'] = 2018 - merge_df['yearbuilt']\n",
    "merge_df.drop(['yearbuilt'], axis = 1, inplace = True)\n",
    "#Ratio of tax of property over parcel\n",
    "merge_df['N-ValueRatio'] = merge_df['taxvaluedollarcnt']/merge_df['taxamount']\n",
    "#Number of properties in the zip\n",
    "zip_count = merge_df['regionidzip'].value_counts().to_dict()\n",
    "merge_df['N-zip_count'] = merge_df['regionidzip'].map(zip_count)\n",
    "#error in calculation of the finished living area of home\n",
    "merge_df['N-LivingAreaError'] = merge_df['calculatedfinishedsquarefeet']/merge_df['finishedsquarefeet12']\n",
    "# proportion of living area calculated or real\n",
    "merge_df['N-LivingAreaProp'] = merge_df['calculatedfinishedsquarefeet']/merge_df['lotsizesquarefeet']\n",
    "merge_df['N-LivingAreaProp2'] = merge_df['finishedsquarefeet12']/merge_df['finishedsquarefeet15']\n",
    "# Amout of extra space\n",
    "merge_df['N-ExtraSpace'] = merge_df['lotsizesquarefeet'] - merge_df['calculatedfinishedsquarefeet'] \n",
    "merge_df['N-ExtraSpace-2'] = merge_df['finishedsquarefeet15'] - merge_df['finishedsquarefeet12'] \n",
    "# Total number of rooms\n",
    "merge_df['N-TotalRooms'] = merge_df['bathroomcnt'] + merge_df['bedroomcnt']\n",
    "#Average room size\n",
    "merge_df['N-AvRoomSize'] = merge_df['calculatedfinishedsquarefeet']/merge_df['roomcnt'] \n",
    "# Number of Extra rooms\n",
    "merge_df['N-ExtraRooms'] = merge_df['roomcnt'] - merge_df['N-TotalRooms']\n",
    "#Ratio of the built structure value to land area\n",
    "merge_df['N-ValueProp'] = merge_df['structuretaxvaluedollarcnt']/merge_df['landtaxvaluedollarcnt']\n",
    "\n",
    "#Does property have a garage, pool or hot tub and AC?\n",
    "merge_df['N-GarPoolAC'] = ((merge_df['garagecarcnt']>0) & (merge_df['pooltypeid10']>0) \\\n",
    "                           & (merge_df['airconditioningtypeid']!=5))*1 \n",
    "\n",
    "merge_df[\"N-location\"] = merge_df[\"latitude\"] + merge_df[\"longitude\"]\n",
    "merge_df[\"N-location-2\"] = merge_df[\"latitude\"]*merge_df[\"longitude\"]\n",
    "\n",
    "\n",
    "#TotalTaxScore\n",
    "merge_df['N-TaxScore'] = merge_df['taxvaluedollarcnt']*merge_df['taxamount']\n",
    "\n",
    "#polnomials of tax delinquency year\n",
    "merge_df[\"N-taxdelinquencyyear-2\"] = merge_df[\"taxdelinquencyyear\"] ** 2\n",
    "merge_df[\"N-taxdelinquencyyear-3\"] = merge_df[\"taxdelinquencyyear\"] ** 3\n",
    "\n",
    "#Length of time since unpaid taxes\n",
    "merge_df['N-taxdeline-life'] = 2018 - merge_df['taxdelinquencyyear']\n",
    "\n",
    "\n",
    "#Number of properties in the city\n",
    "city_count = merge_df['regionidcity'].value_counts().to_dict()\n",
    "merge_df['N-city_count'] = merge_df['regionidcity'].map(city_count)\n",
    "\n",
    "#Number of properties in the city\n",
    "region_count = merge_df['regionidcounty'].value_counts().to_dict()\n",
    "merge_df['N-county_count'] = merge_df['regionidcounty'].map(city_count)\n",
    "#Indicator whether it has AC or not\n",
    "merge_df['N-ACInd'] = (merge_df['airconditioningtypeid']!=5)*1\n",
    "\n",
    "#Indicator whether it has Heating or not \n",
    "merge_df['N-HeatInd'] = (merge_df['heatingorsystemtypeid']!=13)*1\n",
    "\n",
    "#There's 25 different property uses - let's compress them down to 4 categories\n",
    "property_dic = {31 : \"Mixed\", 46 : \"Other\", 47 : \"Mixed\", 246 : \"Mixed\", 247 : \"Mixed\", 248 : \"Mixed\", \n",
    "                260 : \"Home\", 261 : \"Home\", 262 : \"Home\", 263 : \"Home\", 264 : \"Home\", 265 : \"Home\", \n",
    "                266 : \"Home\", 267 : \"Home\", 268 : \"Home\", 269 : \"Not Built\", 270 : \"Home\", 271 : \"Home\", \n",
    "                273 : \"Home\", 274 : \"Other\", 275 : \"Home\", 276 : \"Home\", 279 : \"Home\", 290 : \"Not Built\", \n",
    "                291 : \"Not Built\" }\n",
    "merge_df['N-PropType'] = merge_df.propertylandusetypeid.replace()\n",
    "#polnomials of the variable\n",
    "merge_df[\"N-structuretaxvaluedollarcnt-2\"] = merge_df[\"structuretaxvaluedollarcnt\"] ** 2\n",
    "merge_df[\"N-structuretaxvaluedollarcnt-3\"] = merge_df[\"structuretaxvaluedollarcnt\"] ** 3\n",
    "\n",
    "#Average structuretaxvaluedollarcnt by city\n",
    "group = merge_df.groupby('regionidcity')['structuretaxvaluedollarcnt'].aggregate('mean').to_dict()\n",
    "merge_df['N-Avg-structuretaxvaluedollarcnt'] = merge_df['regionidcity'].map(group)\n",
    "\n",
    "#Deviation away from average\n",
    "merge_df['N-Dev-structuretaxvaluedollarcnt'] = abs((merge_df['structuretaxvaluedollarcnt'] - \\\n",
    "                                                    merge_df['N-Avg-structuretaxvaluedollarcnt']))/\\\n",
    "                                                    merge_df['N-Avg-structuretaxvaluedollarcnt']"
   ]
  },
  {
   "cell_type": "code",
   "execution_count": 4,
   "metadata": {},
   "outputs": [],
   "source": [
    "def total_delete(df):\n",
    "    missing_perc_thresh = 0.98\n",
    "    delete_missing = []\n",
    "    num_rows = df.shape[0]\n",
    "    for i in df.columns:\n",
    "        num_missing = df[i].isnull().sum()\n",
    "        missing_perc = num_missing / float(num_rows)\n",
    "        if missing_perc > missing_perc_thresh:\n",
    "            delete_missing.append(i)\n",
    "    delete_unique = []\n",
    "    for i in df.columns:\n",
    "        num_uniques = len(df[i].unique())\n",
    "        if df[i].isnull().sum() != 0:\n",
    "            num_uniques -= 1\n",
    "        if num_uniques == 1:\n",
    "            delete_unique.append(i)\n",
    "    delete_list = delete_missing\n",
    "    for i in delete_unique:\n",
    "        if i not in delete_missing:\n",
    "            delete_list.append(i)\n",
    "    return delete_list"
   ]
  },
  {
   "cell_type": "code",
   "execution_count": 5,
   "metadata": {},
   "outputs": [],
   "source": [
    "delete_other = ['parcelid', 'logerror','propertyzoningdesc', 'transactiondate']\n",
    "col_init.remove('yearbuilt')"
   ]
  },
  {
   "cell_type": "code",
   "execution_count": 6,
   "metadata": {},
   "outputs": [],
   "source": [
    "init_drop = total_delete(merge_df[col_init])\n",
    "init_drop += delete_other\n",
    "feature_list = [x for x in col_init if x not in init_drop]\n",
    "add_list = [x for x in list(merge_df.columns) if x not in col_init]\n",
    "target = merge_df.logerror"
   ]
  },
  {
   "cell_type": "code",
   "execution_count": 7,
   "metadata": {},
   "outputs": [],
   "source": [
    "from sklearn.preprocessing import LabelEncoder\n",
    "categories = []\n",
    "for i in merge_df.columns:\n",
    "    if merge_df[i].dtype == 'object':\n",
    "        categories.append(i)\n",
    "        merge_df[i] = merge_df[i].fillna('NaN')\n",
    "        le = LabelEncoder()\n",
    "        merge_df[i] = le.fit_transform(merge_df[i].astype(str))"
   ]
  },
  {
   "cell_type": "code",
   "execution_count": 8,
   "metadata": {},
   "outputs": [],
   "source": [
    "categories_features = [x for x in categories if x in feature_list]"
   ]
  },
  {
   "cell_type": "code",
   "execution_count": 9,
   "metadata": {},
   "outputs": [],
   "source": [
    "from sklearn.model_selection import KFold\n",
    "import lightgbm as lgb\n",
    "from sklearn.metrics import mean_squared_error\n",
    "def run_lgb(new_feature):\n",
    "    score = 0\n",
    "    params = {\"objective\": \"regression\", \"boosting\": \"gbdt\", \"num_leaves\": 512, \"learning_rate\": 0.0021,\n",
    "        'bagging_fraction': 0.85,\"colsample_bytree\": 0.9, \"reg_lambda\": 0.1, 'reg_alpha':0.1, \"metric\": \"rmse\",\n",
    "        'max_bins': 10, 'max_depth':-1, 'min_child_sample':20, 'min_child_weight':30,\n",
    "        'min_split_gain':0.1, 'subsample': 0.9, 'subsample_freq':1,'sub_feature':  0.5}\n",
    "    kf = KFold(n_splits=3)\n",
    "    models = []\n",
    "    features = merge_df[feature_list + new_feature]\n",
    "    for train_index,test_index in kf.split(features):\n",
    "        train_features = features.loc[train_index]\n",
    "        train_target = target.loc[train_index]\n",
    "\n",
    "        test_features = features.loc[test_index]\n",
    "        test_target = target.loc[test_index]\n",
    "\n",
    "        d_training = lgb.Dataset(train_features, label=train_target,\n",
    "                                 categorical_feature=categories_features, free_raw_data=False)\n",
    "        d_test = lgb.Dataset(test_features, label=test_target,\n",
    "                             categorical_feature=categories_features, free_raw_data=False)\n",
    "\n",
    "        model = lgb.train(params, train_set=d_training, num_boost_round=1000, \n",
    "                          valid_sets=[d_training,d_test], verbose_eval=25, early_stopping_rounds=50)\n",
    "        y_pred_valid = model.predict(test_features)\n",
    "        score += np.sqrt(mean_squared_error(test_target, y_pred_valid)) / 3\n",
    "    return score"
   ]
  },
  {
   "cell_type": "code",
   "execution_count": 10,
   "metadata": {},
   "outputs": [],
   "source": [
    "# scores = {'init': 0.16490114941654227}\n",
    "# for i in add_list:\n",
    "#     scores[i] = run_lgb([i])"
   ]
  },
  {
   "cell_type": "code",
   "execution_count": 11,
   "metadata": {},
   "outputs": [],
   "source": [
    "# score_df = pd.DataFrame.from_dict(scores, orient = 'index')\n",
    "# score_df = score_df.reset_index()\n",
    "# score_df = score_df.rename(columns = {'index': 'add_feature', 0: 'rmse'})\n",
    "# score_df.to_csv('./output/add_feature.csv', index = False)"
   ]
  },
  {
   "cell_type": "code",
   "execution_count": 12,
   "metadata": {},
   "outputs": [],
   "source": [
    "score_df = pd.read_csv('./output/add_feature.csv')"
   ]
  },
  {
   "cell_type": "code",
   "execution_count": 14,
   "metadata": {},
   "outputs": [
    {
     "data": {
      "image/png": "[encoded data removed]",
      "text/plain": [
       "<Figure size 432x288 with 1 Axes>"
      ]
     },
     "metadata": {
      "needs_background": "light"
     },
     "output_type": "display_data"
    }
   ],
   "source": [
    "sns.scatterplot(x='add_feature', y='rmse', data=score_df)\n",
    "plt.ylim(0.16482,0.16492)\n",
    "plt.xticks(rotation='vertical')\n",
    "plt.show()"
   ]
  },
  {
   "cell_type": "code",
   "execution_count": 18,
   "metadata": {},
   "outputs": [],
   "source": [
    "# double_score = run_lgb(['N-life', 'N-ValueRatio'])\n",
    "# third_score = run_lgb(['N-life', 'N-ValueRatio', 'N-zip_count'])\n",
    "# fourth_score = run_lgb(['N-life', 'N-ValueRatio', 'N-zip_count', 'N-Avg-structuretaxvaluedollarcnt'])"
   ]
  },
  {
   "cell_type": "code",
   "execution_count": 19,
   "metadata": {},
   "outputs": [],
   "source": [
    "# score_3 = {'2_scores': double_score, '3_scores': third_score, '4_scores': fourth_score}\n",
    "# score_3_df = pd.DataFrame.from_dict(score_3, orient = 'index')\n",
    "# score_3_df = score_3_df.reset_index().rename(columns = {'index': 'add_feature', 0: 'rmse'})\n",
    "# score_3_df.to_csv('./output/final_add_feature.csv', index = False)"
   ]
  },
  {
   "cell_type": "code",
   "execution_count": 20,
   "metadata": {},
   "outputs": [
    {
     "data": {
      "text/html": [
       "<div>\n",
       "<style scoped>\n",
       "    .dataframe tbody tr th:only-of-type {\n",
       "        vertical-align: middle;\n",
       "    }\n",
       "\n",
       "    .dataframe tbody tr th {\n",
       "        vertical-align: top;\n",
       "    }\n",
       "\n",
       "    .dataframe thead th {\n",
       "        text-align: right;\n",
       "    }\n",
       "</style>\n",
       "<table border=\"1\" class=\"dataframe\">\n",
       "  <thead>\n",
       "    <tr style=\"text-align: right;\">\n",
       "      <th></th>\n",
       "      <th>add_feature</th>\n",
       "      <th>rmse</th>\n",
       "    </tr>\n",
       "  </thead>\n",
       "  <tbody>\n",
       "    <tr>\n",
       "      <th>0</th>\n",
       "      <td>2_scores</td>\n",
       "      <td>0.164831</td>\n",
       "    </tr>\n",
       "    <tr>\n",
       "      <th>1</th>\n",
       "      <td>3_scores</td>\n",
       "      <td>0.164788</td>\n",
       "    </tr>\n",
       "    <tr>\n",
       "      <th>2</th>\n",
       "      <td>4_scores</td>\n",
       "      <td>0.164786</td>\n",
       "    </tr>\n",
       "  </tbody>\n",
       "</table>\n",
       "</div>"
      ],
      "text/plain": [
       "  add_feature      rmse\n",
       "0    2_scores  0.164831\n",
       "1    3_scores  0.164788\n",
       "2    4_scores  0.164786"
      ]
     },
     "execution_count": 20,
     "metadata": {},
     "output_type": "execute_result"
    }
   ],
   "source": [
    "score_3_df = pd.read_csv('./output/final_add_feature.csv')\n",
    "score_3_df"
   ]
  },
  {
   "cell_type": "code",
   "execution_count": null,
   "metadata": {},
   "outputs": [],
   "source": []
  }
 ],
 "metadata": {
  "kernelspec": {
   "display_name": "Python 3",
   "language": "python",
   "name": "python3"
  },
  "language_info": {
   "codemirror_mode": {
    "name": "ipython",
    "version": 3
   },
   "file_extension": ".py",
   "mimetype": "text/x-python",
   "name": "python",
   "nbconvert_exporter": "python",
   "pygments_lexer": "ipython3",
   "version": "3.6.8"
  }
 },
 "nbformat": 4,
 "nbformat_minor": 2
}
