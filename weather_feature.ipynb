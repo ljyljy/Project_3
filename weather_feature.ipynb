{
 "cells": [
  {
   "cell_type": "code",
   "execution_count": 1,
   "metadata": {},
   "outputs": [],
   "source": [
    "import pandas as pd\n",
    "import numpy as np"
   ]
  },
  {
   "cell_type": "code",
   "execution_count": 2,
   "metadata": {},
   "outputs": [],
   "source": [
    "df_init_2016 = pd.read_csv('./output/weather_initial_2016.csv')\n",
    "df_init_2017 = pd.read_csv('./output/weather_initial_2017.csv')\n",
    "df_init_2016[\"time\"] = pd.to_datetime(df_init_2016[\"time\"],format=\"%Y-%m-%d %H:%M:%S\")\n",
    "df_init_2017[\"time\"] = pd.to_datetime(df_init_2017[\"time\"],format=\"%Y-%m-%d %H:%M:%S\")\n",
    "df_init_2016['time_real'] = -pd.Timedelta(hours=8) + df_init_2016[\"time\"]\n",
    "df_init_2017['time_real'] = -pd.Timedelta(hours=8) + df_init_2017[\"time\"]\n",
    "df_init_2016['hour'] = df_init_2016.time_real.dt.hour\n",
    "df_init_2017['hour'] = df_init_2017.time_real.dt.hour"
   ]
  },
  {
   "cell_type": "code",
   "execution_count": 5,
   "metadata": {},
   "outputs": [],
   "source": [
    "max_temp_2016 = df_init_2016.groupby('site_id').max()\n",
    "column = {'site_id': 'regionidcity_fill', 'apparentTemperature': 'max_temp'}\n",
    "max_temp_2016 = max_temp_2016.reset_index()[['site_id', 'apparentTemperature']].rename(columns = column)\n",
    "max_temp_2016.to_csv('./output/max_temp_2016.csv',index = False)"
   ]
  },
  {
   "cell_type": "code",
   "execution_count": 6,
   "metadata": {},
   "outputs": [],
   "source": [
    "min_temp_2016 = df_init_2016.groupby('site_id').min()\n",
    "column = {'site_id': 'regionidcity_fill', 'apparentTemperature': 'min_temp'}\n",
    "min_temp_2016 = min_temp_2016.reset_index()[['site_id', 'apparentTemperature']].rename(columns = column)\n",
    "min_temp_2016.to_csv('./output/min_temp_2016.csv',index = False)"
   ]
  },
  {
   "cell_type": "code",
   "execution_count": 7,
   "metadata": {},
   "outputs": [],
   "source": [
    "min_temp_2017 = df_init_2017.groupby('site_id').min()\n",
    "column = {'site_id': 'regionidcity_fill', 'apparentTemperature': 'min_temp'}\n",
    "min_temp_2017 = min_temp_2017.reset_index()[['site_id', 'apparentTemperature']].rename(columns = column)\n",
    "min_temp_2017.to_csv('./output/min_temp_2017.csv',index = False)"
   ]
  },
  {
   "cell_type": "code",
   "execution_count": 8,
   "metadata": {},
   "outputs": [],
   "source": [
    "max_temp_2017 = df_init_2017.groupby('site_id').max()\n",
    "column = {'site_id': 'regionidcity_fill', 'apparentTemperature': 'max_temp'}\n",
    "max_temp_2017 = max_temp_2017.reset_index()[['site_id', 'apparentTemperature']].rename(columns = column)\n",
    "max_temp_2017.to_csv('./output/max_temp_2017.csv',index = False)"
   ]
  },
  {
   "cell_type": "code",
   "execution_count": 16,
   "metadata": {},
   "outputs": [],
   "source": [
    "high_dict_2016 = {}\n",
    "low_dict_2016 = {}\n",
    "for i in df_init_2016.index:\n",
    "    site_id = df_init_2016['site_id'][i]\n",
    "    temp = df_init_2016['apparentTemperature'][i]\n",
    "    hour = df_init_2016['hour'][i]\n",
    "    if hour < 17 and hour > 9:\n",
    "        continue\n",
    "    if temp >= 85:\n",
    "        if site_id not in high_dict_2016:\n",
    "            high_dict_2016[site_id] = 1\n",
    "        else:\n",
    "            high_dict_2016[site_id] += 1\n",
    "    if temp <= 60:\n",
    "        if site_id not in low_dict_2016:\n",
    "            low_dict_2016[site_id] = 1\n",
    "        else:\n",
    "            low_dict_2016[site_id] += 1\n",
    "high_hour = pd.DataFrame()\n",
    "high_hour['regionidcity_fill'] = high_dict_2016.keys()\n",
    "high_hour['total_high_hours'] = high_dict_2016.values()\n",
    "high_hour.to_csv('./output/high_hour_2016.csv',index =False)\n",
    "high_hour = pd.DataFrame()\n",
    "high_hour['regionidcity_fill'] = low_dict_2016.keys()\n",
    "high_hour['total_low_hours'] = low_dict_2016.values()\n",
    "high_hour.to_csv('./output/low_hour_2016.csv',index =False)"
   ]
  },
  {
   "cell_type": "code",
   "execution_count": 18,
   "metadata": {},
   "outputs": [],
   "source": [
    "high_dict_2017 = {}\n",
    "low_dict_2017 = {}\n",
    "for i in df_init_2017.index:\n",
    "    site_id = df_init_2017['site_id'][i]\n",
    "    temp = df_init_2017['apparentTemperature'][i]\n",
    "    hour = df_init_2017['hour'][i]\n",
    "    if hour < 17 and hour > 9:\n",
    "        continue\n",
    "    if temp >= 85:\n",
    "        if site_id not in high_dict_2017:\n",
    "            high_dict_2017[site_id] = 1\n",
    "        else:\n",
    "            high_dict_2017[site_id] += 1\n",
    "    if temp <= 60:\n",
    "        if site_id not in low_dict_2017:\n",
    "            low_dict_2017[site_id] = 1\n",
    "        else:\n",
    "            low_dict_2017[site_id] += 1\n",
    "high_hour = pd.DataFrame()\n",
    "high_hour['regionidcity_fill'] = high_dict_2017.keys()\n",
    "high_hour['total_high_hours'] = high_dict_2017.values()\n",
    "high_hour.to_csv('./output/high_hour_2017.csv',index =False)\n",
    "high_hour = pd.DataFrame()\n",
    "high_hour['regionidcity_fill'] = low_dict_2017.keys()\n",
    "high_hour['total_low_hours'] = low_dict_2017.values()\n",
    "high_hour.to_csv('./output/low_hour_2017.csv',index =False)"
   ]
  },
  {
   "cell_type": "code",
   "execution_count": null,
   "metadata": {},
   "outputs": [],
   "source": []
  }
 ],
 "metadata": {
  "kernelspec": {
   "display_name": "Python 3",
   "language": "python",
   "name": "python3"
  },
  "language_info": {
   "codemirror_mode": {
    "name": "ipython",
    "version": 3
   },
   "file_extension": ".py",
   "mimetype": "text/x-python",
   "name": "python",
   "nbconvert_exporter": "python",
   "pygments_lexer": "ipython3",
   "version": "3.6.8"
  }
 },
 "nbformat": 4,
 "nbformat_minor": 2
}
